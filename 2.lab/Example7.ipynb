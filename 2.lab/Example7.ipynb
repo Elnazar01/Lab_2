{
 "cells": [
  {
   "cell_type": "markdown",
   "id": "8e658182-9432-4f8f-95ec-3e8ed9424f65",
   "metadata": {},
   "source": [
    "Unpacking a Tuple"
   ]
  },
  {
   "cell_type": "code",
   "execution_count": 3,
   "id": "cf69d7a8-0ee8-4480-aec5-b60f5b3beefc",
   "metadata": {},
   "outputs": [
    {
     "name": "stdout",
     "output_type": "stream",
     "text": [
      "apple\n",
      "banana\n",
      "cherry\n"
     ]
    }
   ],
   "source": [
    "fruits = (\"apple\", \"banana\", \"cherry\")\n",
    "\n",
    "(green, yellow, red) = fruits\n",
    "\n",
    "print(green)\n",
    "print(yellow)\n",
    "print(red)"
   ]
  },
  {
   "cell_type": "markdown",
   "id": "6f293632-5433-4ae0-a903-7637fb3efad0",
   "metadata": {},
   "source": [
    "Using Asterisk*"
   ]
  },
  {
   "cell_type": "code",
   "execution_count": 6,
   "id": "c5c6a0a2-10a3-46f4-8543-72846039385c",
   "metadata": {},
   "outputs": [
    {
     "name": "stdout",
     "output_type": "stream",
     "text": [
      "apple\n",
      "banana\n",
      "['cherry', 'strawberry', 'raspberry']\n"
     ]
    }
   ],
   "source": [
    "fruits = (\"apple\", \"banana\", \"cherry\", \"strawberry\", \"raspberry\")\n",
    "\n",
    "(green, yellow, *red) = fruits\n",
    "\n",
    "print(green)\n",
    "print(yellow)\n",
    "print(red)"
   ]
  },
  {
   "cell_type": "code",
   "execution_count": 8,
   "id": "be19f8bc-a7c4-41fd-bfcf-717200b5bedf",
   "metadata": {},
   "outputs": [
    {
     "name": "stdout",
     "output_type": "stream",
     "text": [
      "apple\n",
      "['mango', 'papaya', 'pineapple']\n",
      "cherry\n"
     ]
    }
   ],
   "source": [
    "fruits = (\"apple\", \"mango\", \"papaya\", \"pineapple\", \"cherry\")\n",
    "\n",
    "(green, *tropic, red) = fruits\n",
    "\n",
    "print(green)\n",
    "print(tropic)\n",
    "print(red)"
   ]
  },
  {
   "cell_type": "markdown",
   "id": "7c7f19c2-fd74-48a6-93bc-916365c7d59a",
   "metadata": {},
   "source": [
    "Loop Through a Tuple"
   ]
  },
  {
   "cell_type": "code",
   "execution_count": 11,
   "id": "6ff5f756-d7f1-4ca5-9379-02d7aa399d97",
   "metadata": {},
   "outputs": [
    {
     "name": "stdout",
     "output_type": "stream",
     "text": [
      "apple\n",
      "banana\n",
      "cherry\n"
     ]
    }
   ],
   "source": [
    "thistuple = (\"apple\", \"banana\", \"cherry\")\n",
    "for x in thistuple:\n",
    "  print(x)"
   ]
  },
  {
   "cell_type": "markdown",
   "id": "f5812697-1b1c-4198-8aec-fa9f70e25a85",
   "metadata": {},
   "source": [
    "Loop Through the Index Numbers"
   ]
  },
  {
   "cell_type": "code",
   "execution_count": 14,
   "id": "0879a561-eaa8-4a82-943f-84e5e105f6b0",
   "metadata": {},
   "outputs": [
    {
     "name": "stdout",
     "output_type": "stream",
     "text": [
      "apple\n",
      "banana\n",
      "cherry\n"
     ]
    }
   ],
   "source": [
    "thistuple = (\"apple\", \"banana\", \"cherry\")\n",
    "for i in range(len(thistuple)):\n",
    "  print(thistuple[i])"
   ]
  },
  {
   "cell_type": "markdown",
   "id": "93e48df0-eefc-494d-90db-9248a3daf973",
   "metadata": {},
   "source": [
    "Using a While Loop"
   ]
  },
  {
   "cell_type": "code",
   "execution_count": 17,
   "id": "9ddb7c5f-ee61-46db-a598-e879acc71fec",
   "metadata": {},
   "outputs": [
    {
     "name": "stdout",
     "output_type": "stream",
     "text": [
      "apple\n",
      "banana\n",
      "cherry\n"
     ]
    }
   ],
   "source": [
    "thistuple = (\"apple\", \"banana\", \"cherry\")\n",
    "i = 0\n",
    "while i < len(thistuple):\n",
    "  print(thistuple[i])\n",
    "  i = i + 1"
   ]
  },
  {
   "cell_type": "markdown",
   "id": "17b672ff-1a46-429b-8b1f-fcdf9b1f930b",
   "metadata": {},
   "source": [
    "Join Two Tuples"
   ]
  },
  {
   "cell_type": "code",
   "execution_count": 20,
   "id": "77e28767-d80a-4a91-9a3e-a8ddd57230d9",
   "metadata": {},
   "outputs": [
    {
     "name": "stdout",
     "output_type": "stream",
     "text": [
      "('a', 'b', 'c', 1, 2, 3)\n"
     ]
    }
   ],
   "source": [
    "tuple1 = (\"a\", \"b\" , \"c\")\n",
    "tuple2 = (1, 2, 3)\n",
    "\n",
    "tuple3 = tuple1 + tuple2\n",
    "print(tuple3)"
   ]
  },
  {
   "cell_type": "markdown",
   "id": "a4999636-9c66-43f2-8a1d-fb3644de3c58",
   "metadata": {},
   "source": [
    "Multiply Tuples"
   ]
  },
  {
   "cell_type": "code",
   "execution_count": 23,
   "id": "af603ecf-9016-4b71-b7d3-a8318711c7b4",
   "metadata": {},
   "outputs": [
    {
     "name": "stdout",
     "output_type": "stream",
     "text": [
      "('apple', 'banana', 'cherry', 'apple', 'banana', 'cherry')\n"
     ]
    }
   ],
   "source": [
    "fruits = (\"apple\", \"banana\", \"cherry\")\n",
    "mytuple = fruits * 2\n",
    "\n",
    "print(mytuple)"
   ]
  }
 ],
 "metadata": {
  "kernelspec": {
   "display_name": "Python [conda env:base] *",
   "language": "python",
   "name": "conda-base-py"
  },
  "language_info": {
   "codemirror_mode": {
    "name": "ipython",
    "version": 3
   },
   "file_extension": ".py",
   "mimetype": "text/x-python",
   "name": "python",
   "nbconvert_exporter": "python",
   "pygments_lexer": "ipython3",
   "version": "3.12.7"
  }
 },
 "nbformat": 4,
 "nbformat_minor": 5
}
