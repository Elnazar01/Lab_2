{
 "cells": [
  {
   "cell_type": "markdown",
   "id": "a61fe251-5a85-4f8c-8ac4-b1beb1d71bd6",
   "metadata": {},
   "source": [
    "Задача 1"
   ]
  },
  {
   "cell_type": "code",
   "execution_count": 3,
   "id": "bd26155f-8d7e-42c6-92e3-1fb5179dc45d",
   "metadata": {},
   "outputs": [
    {
     "name": "stdout",
     "output_type": "stream",
     "text": [
      "[1, 1, 2, 3]\n"
     ]
    }
   ],
   "source": [
    "a = [1, 1, 2, 3, 5, 8, 13, 21, 34, 55, 89]\n",
    "result = [x for x in a if x < 5]\n",
    "print(result)"
   ]
  },
  {
   "cell_type": "markdown",
   "id": "352fdec4-488a-4f44-9111-a39f2814cd4c",
   "metadata": {},
   "source": [
    "Задача 2"
   ]
  },
  {
   "cell_type": "code",
   "execution_count": 6,
   "id": "61cf85e0-cb0f-444c-8569-1dc7b11d5552",
   "metadata": {},
   "outputs": [
    {
     "name": "stdout",
     "output_type": "stream",
     "text": [
      "[1, 2, 3, 5, 8, 13]\n"
     ]
    }
   ],
   "source": [
    "a = [1, 1, 2, 3, 5, 8, 13, 21, 34, 55, 89]\n",
    "b = [1, 2, 3, 4, 5, 6, 7, 8, 9, 10, 11, 12, 13]\n",
    "result = list(set(a) & set(b))\n",
    "print(result)"
   ]
  },
  {
   "cell_type": "markdown",
   "id": "983d2097-96ab-4e0a-b202-ec014c545744",
   "metadata": {},
   "source": [
    "Задача 3"
   ]
  },
  {
   "cell_type": "code",
   "execution_count": 9,
   "id": "7833e8ae-c304-40e5-8b11-f9f5a0bc8e9b",
   "metadata": {},
   "outputs": [
    {
     "name": "stdout",
     "output_type": "stream",
     "text": [
      "Ascending: {'b': 1, 'c': 2, 'a': 3}\n",
      "Descending: {'a': 3, 'c': 2, 'b': 1}\n"
     ]
    }
   ],
   "source": [
    "my_dict = {'a': 3, 'b': 1, 'c': 2}\n",
    "\n",
    "# По возрастанию\n",
    "ascending = dict(sorted(my_dict.items(), key=lambda item: item[1]))\n",
    "print(\"Ascending:\", ascending)\n",
    "\n",
    "# По убыванию\n",
    "descending = dict(sorted(my_dict.items(), key=lambda item: item[1], reverse=True))\n",
    "print(\"Descending:\", descending)"
   ]
  },
  {
   "cell_type": "markdown",
   "id": "4284de26-5ced-4533-b4a9-fe9744e8b2f6",
   "metadata": {},
   "source": [
    "Задача 4"
   ]
  },
  {
   "cell_type": "code",
   "execution_count": 12,
   "id": "42f774b2-5323-46f4-a661-e925a5d7ecc6",
   "metadata": {},
   "outputs": [
    {
     "name": "stdout",
     "output_type": "stream",
     "text": [
      "{'a': 1, 'b': 2, 'c': 3, 'd': 4, 'e': 5, 'f': 6}\n"
     ]
    }
   ],
   "source": [
    "dict1 = {'a': 1, 'b': 2}\n",
    "dict2 = {'c': 3, 'd': 4}\n",
    "dict3 = {'e': 5, 'f': 6}\n",
    "\n",
    "merged_dict = {**dict1, **dict2, **dict3}\n",
    "print(merged_dict)"
   ]
  },
  {
   "cell_type": "markdown",
   "id": "ee69ede2-00f9-480d-b4b3-c3eb61306142",
   "metadata": {},
   "source": [
    "Задача 5"
   ]
  },
  {
   "cell_type": "code",
   "execution_count": 15,
   "id": "c1fc55c8-930a-41e5-9e72-f5b02f35690a",
   "metadata": {},
   "outputs": [
    {
     "name": "stdout",
     "output_type": "stream",
     "text": [
      "['b', 'e', 'c']\n"
     ]
    }
   ],
   "source": [
    "my_dict = {'a': 500, 'b': 5874, 'c': 560, 'd': 400, 'e': 5874, 'f': 20}\n",
    "top_keys = sorted(my_dict, key=my_dict.get, reverse=True)[:3]\n",
    "print(top_keys)"
   ]
  },
  {
   "cell_type": "markdown",
   "id": "3700259d-b295-4533-920e-3a9453b0c0eb",
   "metadata": {},
   "source": [
    "Задача 6"
   ]
  },
  {
   "cell_type": "code",
   "execution_count": 18,
   "id": "7319212c-c963-4614-ae9b-b4aa35b5bd7b",
   "metadata": {},
   "outputs": [
    {
     "name": "stdin",
     "output_type": "stream",
     "text": [
      "Введите числа, разделённые запятой:  2, 3, 3, 4\n"
     ]
    },
    {
     "name": "stdout",
     "output_type": "stream",
     "text": [
      "Список: ['2', ' 3', ' 3', ' 4']\n",
      "Кортеж: ('2', ' 3', ' 3', ' 4')\n"
     ]
    }
   ],
   "source": [
    "input_data = input(\"Введите числа, разделённые запятой: \")\n",
    "numbers_list = input_data.split(',')\n",
    "numbers_tuple = tuple(numbers_list)\n",
    "\n",
    "print(\"Список:\", numbers_list)\n",
    "print(\"Кортеж:\", numbers_tuple)"
   ]
  },
  {
   "cell_type": "markdown",
   "id": "b9ac09fc-9011-4e57-9b6c-790c118179bf",
   "metadata": {},
   "source": [
    "Задача 7"
   ]
  },
  {
   "cell_type": "code",
   "execution_count": 21,
   "id": "15c65ddb-f741-4e47-9697-206ba7b985b8",
   "metadata": {},
   "outputs": [
    {
     "name": "stdout",
     "output_type": "stream",
     "text": [
      "Первый элемент: 1\n",
      "Последний элемент: 5\n"
     ]
    }
   ],
   "source": [
    "a = [1, 2, 3, 4, 5]\n",
    "\n",
    "if a:  # Проверяем, что список не пустой\n",
    "    print(\"Первый элемент:\", a[0])\n",
    "    print(\"Последний элемент:\", a[-1])\n",
    "else:\n",
    "    print(\"Список пуст\")\n"
   ]
  }
 ],
 "metadata": {
  "kernelspec": {
   "display_name": "Python [conda env:base] *",
   "language": "python",
   "name": "conda-base-py"
  },
  "language_info": {
   "codemirror_mode": {
    "name": "ipython",
    "version": 3
   },
   "file_extension": ".py",
   "mimetype": "text/x-python",
   "name": "python",
   "nbconvert_exporter": "python",
   "pygments_lexer": "ipython3",
   "version": "3.12.7"
  }
 },
 "nbformat": 4,
 "nbformat_minor": 5
}
